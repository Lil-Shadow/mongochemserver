{
 "cells": [
  {
   "cell_type": "markdown",
   "metadata": {},
   "source": [
    "# Demonstration of Open Chemistry JupyterLab Environment\n"
   ]
  },
  {
   "cell_type": "code",
   "execution_count": 13,
   "metadata": {},
   "outputs": [],
   "source": [
    "import openchemistry as oc"
   ]
  },
  {
   "cell_type": "markdown",
   "metadata": {},
   "source": [
    "Find and display structures using online databases (or cached local results). This uses the [CACTUS structure resolver](https://cactus.nci.nih.gov/chemical/structure) on the backend if the structure is not available."
   ]
  },
  {
   "cell_type": "code",
   "execution_count": 14,
   "metadata": {},
   "outputs": [],
   "source": [
    "aspirin = oc.find_structure('aspirin')"
   ]
  },
  {
   "cell_type": "code",
   "execution_count": 15,
   "metadata": {},
   "outputs": [
    {
     "data": {
      "application/cjson+json": {
       "atoms": {
        "coords": {
         "3d": [
          2.2393,
          -0.3791,
          0.263,
          0.8424,
          1.9231,
          -0.4249,
          2.8709,
          0.8456,
          0.2722,
          2.1751,
          1.9935,
          -0.0703,
          -3.4838,
          0.4953,
          -0.0896,
          0.891,
          -0.4647,
          -0.0939,
          0.1908,
          0.6991,
          -0.4402,
          -0.9633,
          -1.8425,
          -0.4185,
          -1.6531,
          0.8889,
          1.3406,
          0.8857,
          -2.8883,
          0.2267,
          0.209,
          -1.772,
          -0.1069,
          -2.0185,
          0.6853,
          0.2071,
          -1.1189,
          0.6285,
          -0.7886,
          0.3962,
          -3.7219,
          0.2035,
          2.7867,
          -1.2719,
          0.5268,
          0.3069,
          2.8224,
          -0.6911,
          3.913,
          0.9108,
          0.5482,
          2.6781,
          2.9492,
          -0.0604,
          -3.736,
          -0.5623,
          -0.012,
          -4.0763,
          1.0637,
          0.6273,
          -3.6988,
          0.8471,
          -1.0986
         ]
        },
        "elements": {
         "number": [
          6,
          6,
          6,
          6,
          6,
          6,
          6,
          8,
          8,
          8,
          6,
          6,
          8,
          1,
          1,
          1,
          1,
          1,
          1,
          1,
          1
         ]
        },
        "selected": [
         0,
         0,
         0,
         0,
         0,
         0,
         0,
         0,
         0,
         0,
         0,
         0,
         0,
         0,
         0,
         0,
         0,
         0,
         0,
         0,
         0
        ]
       },
       "bonds": {
        "connections": {
         "index": [
          5,
          6,
          0,
          5,
          5,
          10,
          1,
          6,
          6,
          12,
          0,
          2,
          9,
          10,
          7,
          10,
          1,
          3,
          11,
          12,
          4,
          11,
          8,
          11,
          2,
          3,
          0,
          14,
          1,
          15,
          2,
          16,
          9,
          13,
          3,
          17,
          4,
          18,
          4,
          19,
          4,
          20
         ]
        },
        "order": [
         2,
         1,
         1,
         1,
         1,
         2,
         1,
         2,
         2,
         1,
         1,
         2,
         1,
         1,
         1,
         1,
         1,
         1,
         1,
         1,
         1
        ]
       },
       "chemical json": 0,
       "name": "C9H8O4"
      },
      "text/plain": [
       "<jupyterlab_cjson.CJSON object>"
      ]
     },
     "metadata": {
      "application/cjson+json": {
       "animateMode": null,
       "calculationId": null,
       "expanded": false,
       "isoSurfaces": [
        {
         "color": "blue",
         "opacity": 0.9,
         "value": 0.0215
        },
        {
         "color": "red",
         "opacity": 0.9,
         "value": -0.0215
        }
       ],
       "mo": null,
       "structure": true,
       "vibrational": false
      }
     },
     "output_type": "display_data"
    }
   ],
   "source": [
    "aspirin.structure.show()"
   ]
  },
  {
   "cell_type": "markdown",
   "metadata": {},
   "source": [
    "Set up a calculation for a structure, using various identifiers"
   ]
  },
  {
   "cell_type": "code",
   "execution_count": null,
   "metadata": {},
   "outputs": [],
   "source": [
    "calc_setup = {\n",
    "    'basis': '3-21g',\n",
    "    'functional': 'B3LYP'\n",
    "}"
   ]
  },
  {
   "cell_type": "code",
   "execution_count": null,
   "metadata": {},
   "outputs": [],
   "source": [
    "result = aspirin.optimize(**calc_setup)"
   ]
  },
  {
   "cell_type": "markdown",
   "metadata": {},
   "source": [
    "Once we have a result (currently inserted, will be triggered in next few months) we can show the 3D structure (geometry and electronic)."
   ]
  },
  {
   "cell_type": "code",
   "execution_count": null,
   "metadata": {},
   "outputs": [],
   "source": [
    "result.structure.show()"
   ]
  },
  {
   "cell_type": "code",
   "execution_count": null,
   "metadata": {},
   "outputs": [],
   "source": [
    "result.orbitals.show(mo='homo', iso=0.005)"
   ]
  },
  {
   "cell_type": "markdown",
   "metadata": {},
   "source": [
    "We can also generate a unique URL for the result, and any electronic structure visualization, etc. This is available without authentication, can be viewed on desktop, mobile, tablet, and remains interactive using WebGL."
   ]
  },
  {
   "cell_type": "code",
   "execution_count": null,
   "metadata": {},
   "outputs": [],
   "source": [
    "result.orbitals.url()"
   ]
  },
  {
   "cell_type": "markdown",
   "metadata": {},
   "source": [
    "Vibrational analysis can also be shown, ability to animate, look at charts, with interactive charts liked to 3D visualization."
   ]
  },
  {
   "cell_type": "code",
   "execution_count": null,
   "metadata": {},
   "outputs": [],
   "source": [
    "result = aspirin.frequencies(**calc_setup)\n"
   ]
  },
  {
   "cell_type": "code",
   "execution_count": null,
   "metadata": {},
   "outputs": [],
   "source": [
    "result.frequencies.show(mode=56, animate_modes=True)"
   ]
  },
  {
   "cell_type": "markdown",
   "metadata": {},
   "source": [
    "Going beyond single calculations, can we compose a number of calculations, and perform analytics."
   ]
  },
  {
   "cell_type": "code",
   "execution_count": null,
   "metadata": {},
   "outputs": [],
   "source": [
    "elements = ['F', 'Cl', 'Br']"
   ]
  },
  {
   "cell_type": "code",
   "execution_count": null,
   "metadata": {},
   "outputs": [],
   "source": [
    "temp = 'CH4O + H{{x}} => CH3{{x}} + H2O'"
   ]
  },
  {
   "cell_type": "code",
   "execution_count": null,
   "metadata": {},
   "outputs": [],
   "source": [
    "equations = [oc.compose_equation(temp, x=element) for element in elements]"
   ]
  },
  {
   "cell_type": "code",
   "execution_count": null,
   "metadata": {},
   "outputs": [],
   "source": [
    "equations"
   ]
  },
  {
   "cell_type": "code",
   "execution_count": null,
   "metadata": {},
   "outputs": [],
   "source": [
    "my_reactions = [oc.setup_reaction(equation) for equation in equations]"
   ]
  },
  {
   "cell_type": "code",
   "execution_count": null,
   "metadata": {},
   "outputs": [],
   "source": [
    "[x.free_energy(**calc_setup) for x in my_reactions]"
   ]
  },
  {
   "cell_type": "markdown",
   "metadata": {},
   "source": [
    "Showing numeric data, with tooltips that expand information interactively."
   ]
  },
  {
   "cell_type": "code",
   "execution_count": null,
   "metadata": {},
   "outputs": [],
   "source": [
    "oc.show_free_energies(my_reactions)"
   ]
  },
  {
   "cell_type": "code",
   "execution_count": null,
   "metadata": {},
   "outputs": [],
   "source": [
    "oc"
   ]
  }
 ],
 "metadata": {
  "kernelspec": {
   "display_name": "Python 3",
   "language": "python",
   "name": "python3"
  },
  "language_info": {
   "codemirror_mode": {
    "name": "ipython",
    "version": 3
   },
   "file_extension": ".py",
   "mimetype": "text/x-python",
   "name": "python",
   "nbconvert_exporter": "python",
   "pygments_lexer": "ipython3",
   "version": "3.6.2"
  }
 },
 "nbformat": 4,
 "nbformat_minor": 2
}